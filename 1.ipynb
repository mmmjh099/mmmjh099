{
 "cells": [
  {
   "cell_type": "markdown",
   "metadata": {},
   "source": [
    "## How to use Jupyter notebooks\n",
    "- **Command Mode vs. Edit Mode**\n",
    "    - <span class='label label-default'>Enter</span>: Command to Edit\n",
    "    - <span class='label label-default'>Esc</span>: Edit to Command \n",
    "\n",
    "- **Code Cell vs. Markdown Cell**\n",
    "    - <span class='label label-default'>Y</span>: Markdown to Code\n",
    "    - <span class='label label-default'>M</span>: Code to Markdown\n",
    "\n",
    "- Most useful keyboard shortcuts\n",
    "    - <span class='label label-default'>Shift</span> + <span class='label label-default'>Enter</span>: Run cell and select the next cell\n",
    "    - <span class='label label-default'>Ctrl</span> + <span class='label label-default'>Enter</span>: Run cell and select current cell\n",
    "    - <span class='label label-default'>Alt</span> + <span class='label label-default'>Enter</span>: Run cell and create a new cell\n",
    "    - <span class='label label-default'>Ctrl</span> + <span class='label label-default'>S</span>: Save\n",
    "    - <span class='label label-default'>A</span>: new cell **A**bove\n",
    "    - <span class='label label-default'>B</span>: new cell **B**elow\n",
    "    - <span class='label label-default'>C</span>: **C**opy a cell\n",
    "    - <span class='label label-default'>V</span>: Paste a copied cell\n",
    "    - <span class='label label-default'>D</span> <span class='label label-default'>D</span>: **D**elete current cell\n",
    "\n",
    "See [003_Jupyter_Keyboard_Shortcuts_Practice.ipynb by Dr. Milaan Parmar](https://github.com/milaan9/01_Python_Introduction/blob/main/003_Jupyter_Keyboard_Shortcuts_Practice.ipynb) for more details."
   ]
  },
  {
   "cell_type": "markdown",
   "metadata": {},
   "source": [
    "### Python variable name rules\n",
    "\n",
    "- A variable name must start with a **letter** **`A`**-**`z`** or the **underscore** **`_`** character\n",
    "- A variable name cannot start with a **number** **`0`**-**`9`**\n",
    "- A variable name can only contain alpha-numeric characters and underscores (**`A`**-**`z`**, **`0`**-**`9`**, and **`_`** )\n",
    "- Variable names are case-sensitive: **`firstname`**, **`Firstname`**, **`FirstName`** and **`FIRSTNAME`** are different variables."
   ]
  },
  {
   "cell_type": "markdown",
   "metadata": {},
   "source": [
    "### Python variable name conventions\n",
    "- **Meaningful**: reflect usage rather than implementation.\n",
    "- **lowercase letters**\n",
    "- **Snake case style**: use underscore character after each word for a variable containing more than one word (eg. **`first_name`**, **`last_name`**, **`engine_rotation_speed`**). However, underscore can be ommited when readability is not reduced, such as `mysum` is better than `my_sum`, while `engine_rotation_speed` is better than `enginerotationspeed`.\n",
    "- **Names to avoid**: Never use the characters ‘l’ (lowercase letter el), ‘O’ (uppercase letter oh), or ‘I’ (uppercase letter eye) as single character variable names.\n",
    "- **Constants**: a variable whose value never changes is called a constant, which should be named use uppercase letters, e.g. `PI`, `AVOGADRO_NUMBER`, `LIGHT_SPEED`.\n",
    "- **`_single_leading_underscore`**: weak “internal use” indicator.\n",
    "- **`single_trailing_underscore_`**: used by convention to avoid conflicts with Python keyword, e.g. `if_`.\n",
    "- **`__double_leading_underscore`**: when naming a class attribute, invokes name mangling.\n",
    "- **`__double_leading_and_trailing_underscore__`**: “magic” objects or attributes that live in user-controlled namespaces. E.g. `__init__`, `__import__` or `__file__`. Never invent such names; only use them as documented.\n",
    "\n",
    "Consult [PEP 8](https://peps.python.org/pep-0008/) for a more detailed guide."
   ]
  }
 ],
 "metadata": {
  "kernelspec": {
   "display_name": "Python 3",
   "language": "python",
   "name": "python3"
  },
  "language_info": {
   "codemirror_mode": {
    "name": "ipython",
    "version": 3
   },
   "file_extension": ".py",
   "mimetype": "text/x-python",
   "name": "python",
   "nbconvert_exporter": "python",
   "pygments_lexer": "ipython3",
   "version": "3.9.7"
  }
 },
 "nbformat": 4,
 "nbformat_minor": 2
}
